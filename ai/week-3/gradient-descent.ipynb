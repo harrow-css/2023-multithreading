{
  "cells": [
    {
      "cell_type": "markdown",
      "metadata": {
        "id": "q3Cezk_Y0RsX"
      },
      "source": [
        "# Gradient Descent Demo: Line of Best Fit\n",
        "\n",
        "<a target=\"_blank\" href=\"https://colab.research.google.com/github/harrow-css/2023-multithreading/blob/main/ai/week-3/gradient-descent.ipynb\">\n",
        "  <img src=\"https://colab.research.google.com/assets/colab-badge.svg\" alt=\"Open In Colab\"/>\n",
        "</a>"
      ]
    },
    {
      "cell_type": "markdown",
      "metadata": {
        "id": "PM6m-2kBEOQV"
      },
      "source": [
        "## Setting Up"
      ]
    },
    {
      "cell_type": "code",
      "execution_count": null,
      "metadata": {
        "cellView": "form",
        "id": "3a2PImf_p2CC"
      },
      "outputs": [],
      "source": [
        "#@title Importing Libraries\n",
        "\n",
        "import cv2\n",
        "import numpy as np\n",
        "from matplotlib import pyplot as plt\n",
        "\n",
        "import warnings\n",
        "warnings.filterwarnings(\"ignore\")"
      ]
    },
    {
      "cell_type": "code",
      "execution_count": null,
      "metadata": {
        "cellView": "form",
        "id": "mjU-f1CVxyz4"
      },
      "outputs": [],
      "source": [
        "#@title Plotting Utilities\n",
        "\n",
        "x_vals = np.arange(0, 10, 0.1)\n",
        "\n",
        "def return_linear_plot_obj(m, c):\n",
        "    fig = plt.figure()\n",
        "    ax = fig.add_subplot(1, 1, 1)\n",
        "    ax.plot(x_vals, m * x_vals + c)\n",
        "\n",
        "    ax.set_xlim([0, 10])\n",
        "    ax.set_ylim([0, 20])\n",
        "\n",
        "    return fig\n",
        "\n",
        "def plot_linear(m, c):\n",
        "    return_linear_plot_obj(m, c)\n",
        "    plt.show()\n",
        "\n",
        "def get_linear_img(m, c):\n",
        "    fig = return_linear_plot_obj(m, c)\n",
        "    fig.canvas.draw()\n",
        "\n",
        "    img = np.fromstring(\n",
        "        fig.canvas.tostring_rgb(), dtype=np.uint8, sep=''\n",
        "    )\n",
        "    img  = img.reshape(fig.canvas.get_width_height()[::-1] + (3,))\n",
        "    img = cv2.cvtColor(img,cv2.COLOR_RGB2BGR)\n",
        "    height, width, _ = img.shape\n",
        "\n",
        "    fig.clear()\n",
        "\n",
        "    return img, width, height\n",
        "\n",
        "def create_video(fname, frames, w, h):\n",
        "    video = cv2.VideoWriter(fname, cv2.VideoWriter_fourcc(*'MP4V'), 30, (w, h))\n",
        "    for f in frames:\n",
        "        video.write(f)\n",
        "    cv2.destroyAllWindows()\n",
        "    video.release()"
      ]
    },
    {
      "cell_type": "markdown",
      "metadata": {
        "id": "d2kh9klgEaoH"
      },
      "source": [
        "## Target Function and Data Generation"
      ]
    },
    {
      "cell_type": "code",
      "execution_count": null,
      "metadata": {
        "id": "gqoqCLKupxCe"
      },
      "outputs": [],
      "source": [
        "M, C = 1.5, 2\n",
        "\n",
        "print(f'Target function: m={M}, c={C}\\n')\n",
        "\n",
        "def target_function(inp):\n",
        "    return M * inp + C\n",
        "\n",
        "y_vals = target_function(x_vals)\n",
        "\n",
        "plot_linear(M, C)"
      ]
    },
    {
      "cell_type": "markdown",
      "metadata": {
        "id": "2nORYJJcEg9U"
      },
      "source": [
        "## Single Perceptron and Gradients"
      ]
    },
    {
      "cell_type": "code",
      "execution_count": null,
      "metadata": {
        "id": "LcsQrGuBGZHg"
      },
      "outputs": [],
      "source": [
        "def perceptron(x, m, c):\n",
        "    return m * x + c\n",
        "\n",
        "def perceptron_grad(x, m, c):\n",
        "    return {'m': x, 'c': 1}"
      ]
    },
    {
      "cell_type": "markdown",
      "metadata": {
        "id": "yStKZCFpEpkY"
      },
      "source": [
        "## Loss Function and Gradients"
      ]
    },
    {
      "cell_type": "code",
      "execution_count": null,
      "metadata": {
        "id": "6iHK8EEfxmOh"
      },
      "outputs": [],
      "source": [
        "def loss(y_target, y):\n",
        "    if y > y_target:\n",
        "        return y - y_target\n",
        "    if y < y_target:\n",
        "        return y_target - y\n",
        "    if y == y_target:\n",
        "        return 0\n",
        "\n",
        "def loss_grad(y_target, y):\n",
        "    if y > y_target:\n",
        "        return 1\n",
        "    if y < y_target:\n",
        "        return -1\n",
        "    if y == y_target:\n",
        "        print('Error - gradient = 0')\n",
        "        return 0"
      ]
    },
    {
      "cell_type": "code",
      "execution_count": null,
      "metadata": {
        "id": "4TVbN-OezoqM"
      },
      "outputs": [],
      "source": [
        "def apply_gradients(val, grad, lr):\n",
        "    return val - lr * grad"
      ]
    },
    {
      "cell_type": "markdown",
      "metadata": {
        "id": "D_qQIq8AExkH"
      },
      "source": [
        "## Approximation Initialisation and Visualisation"
      ]
    },
    {
      "cell_type": "code",
      "execution_count": null,
      "metadata": {
        "id": "j-1_PwYgysnO"
      },
      "outputs": [],
      "source": [
        "m, c = 1, 1\n",
        "\n",
        "print(f'Approximate function initialisation: m={m}, c={c}\\n')\n",
        "\n",
        "plot_linear(m, c)"
      ]
    },
    {
      "cell_type": "code",
      "execution_count": null,
      "metadata": {
        "id": "pkwWkfGw1YnO"
      },
      "outputs": [],
      "source": [
        "x_test = 2\n",
        "targ = target_function(x_test)\n",
        "out = perceptron(x_test, m, c)\n",
        "print(f'At x={x_test}, output={out}, ground truth={targ}, loss={loss(targ, out)}\\n')\n",
        "\n",
        "scout = 0.5\n",
        "m_neighbours = np.arange(m-scout, m+scout, 0.01)\n",
        "m_neighbour_losses = [loss(targ, perceptron(x_test, n, c)) for n in m_neighbours]\n",
        "\n",
        "plt.plot(m_neighbours, m_neighbour_losses)\n",
        "plt.xlabel('m')\n",
        "plt.ylabel('loss')\n",
        "plt.title(f'How the loss changes as m changes in the neighbourhood of x={x_test}')\n",
        "plt.show()"
      ]
    },
    {
      "cell_type": "markdown",
      "metadata": {
        "id": "OLTbDQFXE2OU"
      },
      "source": [
        "## Training"
      ]
    },
    {
      "cell_type": "code",
      "execution_count": null,
      "metadata": {
        "id": "wteWnDjlqnZ8"
      },
      "outputs": [],
      "source": [
        "learning_rate = 0.001\n",
        "epochs = 100\n",
        "\n",
        "frames, w, h = [], 0, 0\n",
        "\n",
        "for ep in range(100):\n",
        "    total_loss = []\n",
        "\n",
        "    for e, (i, t) in enumerate(zip(x_vals, y_vals)):\n",
        "        # computing outputs\n",
        "        y = perceptron(i, m, c)\n",
        "        l = loss(t, y)\n",
        "\n",
        "        # gradient propagating\n",
        "        l_grad = loss_grad(t, y)\n",
        "        y_grad = perceptron_grad(i, m, c)\n",
        "        m_grad = y_grad['m'] * l_grad     # chain rule\n",
        "        c_grad = y_grad['c'] * l_grad     # chain rule\n",
        "\n",
        "        # gradient update\n",
        "        m = apply_gradients(m, m_grad, learning_rate)\n",
        "        c = apply_gradients(c, c_grad, learning_rate)\n",
        "\n",
        "        total_loss.append(l)\n",
        "        if e % ((10*10)/(epochs*len(x_vals))) == 0:\n",
        "            img, w, h = get_linear_img(m, c)\n",
        "            frames.append(img)\n",
        "\n",
        "    print(f'Epoch {ep+1} mean loss: {np.mean(total_loss)}; m={m}, c={c}')"
      ]
    },
    {
      "cell_type": "markdown",
      "metadata": {
        "id": "3wGJ5xBRE4uj"
      },
      "source": [
        "### Result Visualisation"
      ]
    },
    {
      "cell_type": "code",
      "execution_count": null,
      "metadata": {
        "id": "uVPfFfgP0dha"
      },
      "outputs": [],
      "source": [
        "print(f'Approximate function result: m={m}, c={c}\\n')\n",
        "\n",
        "plot_linear(m, c)"
      ]
    },
    {
      "cell_type": "code",
      "execution_count": null,
      "metadata": {
        "id": "mzuYcXS795ev"
      },
      "outputs": [],
      "source": [
        "create_video('convergence.mp4', frames, w, h)"
      ]
    }
  ],
  "metadata": {
    "colab": {
      "name": "Gradient Descent.ipynb",
      "private_outputs": true,
      "provenance": [],
      "toc_visible": true
    },
    "kernelspec": {
      "display_name": "Python 3",
      "name": "python3"
    },
    "language_info": {
      "codemirror_mode": {
        "name": "ipython",
        "version": 3
      },
      "file_extension": ".py",
      "mimetype": "text/x-python",
      "name": "python",
      "nbconvert_exporter": "python",
      "pygments_lexer": "ipython3",
      "version": "3.11.4"
    }
  },
  "nbformat": 4,
  "nbformat_minor": 0
}
